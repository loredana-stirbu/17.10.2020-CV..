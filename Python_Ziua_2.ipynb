{
  "nbformat": 4,
  "nbformat_minor": 0,
  "metadata": {
    "colab": {
      "name": "Python_Ziua_2.ipynb",
      "provenance": [],
      "collapsed_sections": [],
      "toc_visible": true,
      "include_colab_link": true
    },
    "kernelspec": {
      "name": "python3",
      "display_name": "Python 3"
    },
    "language_info": {
      "name": "python"
    }
  },
  "cells": [
    {
      "cell_type": "markdown",
      "metadata": {
        "id": "view-in-github",
        "colab_type": "text"
      },
      "source": [
        "<a href=\"https://colab.research.google.com/github/loredana-stirbu/17.10.2020-CV../blob/master/Python_Ziua_2.ipynb\" target=\"_parent\"><img src=\"https://colab.research.google.com/assets/colab-badge.svg\" alt=\"Open In Colab\"/></a>"
      ]
    },
    {
      "cell_type": "markdown",
      "metadata": {
        "id": "vGWNaczw0E15"
      },
      "source": [
        "# Python Spring Bootcamp - Ziua II    "
      ]
    },
    {
      "cell_type": "markdown",
      "metadata": {
        "id": "ye-CN21e0k-c"
      },
      "source": [
        "Planul sesunii:\n",
        "\n",
        "\n",
        "* Recapitulare \n",
        "* Analiza temei de acasa\n",
        "* `while` loop\n",
        "* Liste\n",
        "* Indexare si slicing\n",
        "* Liste de liste\n",
        "* `for loop `si parcurgerea listei\n",
        "* Funcții\n",
        "* Prezentare proiect final"
      ]
    },
    {
      "cell_type": "markdown",
      "metadata": {
        "id": "vMbhV9Yh1dpq"
      },
      "source": [
        "Recapitularea \n",
        "de introdus intrebari"
      ]
    },
    {
      "cell_type": "code",
      "metadata": {
        "colab": {
          "base_uri": "https://localhost:8080/"
        },
        "id": "Pfzv_Dl8mXFq",
        "outputId": "bfa74529-2834-4bf7-f6fd-a1d4063634d4"
      },
      "source": [
        "age = int(input())\n",
        "pizza_eater = input()\n",
        "\n",
        "if age > 30:\n",
        "    print('Mai mare de 30')\n",
        "    \n",
        "else:\n",
        "    print('Mai mic de 30')\n",
        "    if \n"
      ],
      "execution_count": null,
      "outputs": [
        {
          "output_type": "stream",
          "text": [
            "23\n",
            "Mai mic de 30\n"
          ],
          "name": "stdout"
        }
      ]
    },
    {
      "cell_type": "markdown",
      "metadata": {
        "id": "g0w1zF5-Frpe"
      },
      "source": [
        "# **Tipuri de bucle (Loop)**"
      ]
    },
    {
      "cell_type": "markdown",
      "metadata": {
        "id": "khu_pDnsv4A3"
      },
      "source": [
        "**Buclele** sunt printre cele mai de bază și mai puternice dintre conceptele de programare. O buclă într-un program este o instrucțiune care se repetă până când se atinge o condiție specificată. Însăși bucla pune o întrebare. Dacă răspunsul necesită acțiune, acesta este executat.🚶  Aceeași întrebare este pusă din nou și din nou până când nu este necesară nicio altă acțiune. De fiecare dată când se pune întrebarea se numește **iterație**. "
      ]
    },
    {
      "cell_type": "markdown",
      "metadata": {
        "id": "xy8XJ_zo2ZsV"
      },
      "source": [
        "**Tipuri de bucle**  "
      ]
    },
    {
      "cell_type": "markdown",
      "metadata": {
        "id": "JSYODqM62hjc"
      },
      "source": [
        "* O buclă `for `este o buclă care rulează de mai multe ori.\n",
        "*O buclă `while` este o buclă care se repetă atâta timp cât o expresie este adevărată. O expresie este o afirmație care are o valoare.\n",
        "* O buclă `do while` sau repetă până când bucla se repetă până când o expresie devine falsă.\n",
        "* O buclă `infinită` sau fără sfârșit este o buclă care se repetă la nesfârșit, deoarece nu are nicio condiție de terminare, condiția de ieșire nu este îndeplinită niciodată sau bucla este instruită să o ia de la început. Deși este posibil ca un programator să folosească în mod intenționat o buclă infinită, acestea sunt adesea greșeli făcute de noii programatori.\n",
        "\n",
        " În cazul iterări indefinite, codul este repetat până condiția declarată este adevărată. - **While Loop**\n",
        "\n",
        " În cazul iterări definite, numărul de câte ori codul se repetă este declarat la începutul buclei.  - **For Loop**\n",
        "\n"
      ]
    },
    {
      "cell_type": "markdown",
      "metadata": {
        "id": "r07nX7-9qWHS"
      },
      "source": [
        "# **While Loop**"
      ]
    },
    {
      "cell_type": "markdown",
      "metadata": {
        "id": "9BqmdTHmy-GI"
      },
      "source": [
        "*   Bucla While este folosită pentru a itera o secțiune de cod atât timp cât condiția este adevărată.\n",
        "*   Există două scenarii de iterare a unui cod: **definit** și **indefinit**. Bucla `while` este o buclă indefinită.\n",
        "*   Această buclă ține cont de indentarea codului.\n"
      ]
    },
    {
      "cell_type": "markdown",
      "metadata": {
        "id": "2xw3pf1pxo-f"
      },
      "source": [
        " **Structura  buclei While:**\n"
      ]
    },
    {
      "cell_type": "code",
      "metadata": {
        "id": "5urSpSU9yXAm"
      },
      "source": [
        "#while <condiție>:\n",
        "#       <instrucțiune>"
      ],
      "execution_count": null,
      "outputs": []
    },
    {
      "cell_type": "markdown",
      "metadata": {
        "id": "ao0uOxLwM1T-"
      },
      "source": [
        "![textul linkului](https://girlsgoitpublic.z6.web.core.windows.net/2_7.png)"
      ]
    },
    {
      "cell_type": "markdown",
      "metadata": {
        "id": "pAqYPsFxywaP"
      },
      "source": [
        "Exemplu:"
      ]
    },
    {
      "cell_type": "code",
      "metadata": {
        "id": "TZ5tUYHKyzQA",
        "colab": {
          "base_uri": "https://localhost:8080/"
        },
        "outputId": "990e7999-63da-4de4-b539-d3e79f483160"
      },
      "source": [
        "total = 0\n",
        "while total < 100:\n",
        "    total = total + 1\n",
        "\n",
        "\n",
        "print(total)"
      ],
      "execution_count": null,
      "outputs": [
        {
          "output_type": "stream",
          "text": [
            "100\n"
          ],
          "name": "stdout"
        }
      ]
    },
    {
      "cell_type": "code",
      "metadata": {
        "id": "HYO5iTfNHxo9"
      },
      "source": [
        "# cum arata un ciclu infinit?\n",
        "\n",
        "# a = 1\n",
        "\n",
        "# while True:\n",
        "#     a = a + 1\n",
        "#     print(a)"
      ],
      "execution_count": null,
      "outputs": []
    },
    {
      "cell_type": "markdown",
      "metadata": {
        "id": "vLW4yaz97mit"
      },
      "source": [
        "**Declarațiile de control**"
      ]
    },
    {
      "cell_type": "markdown",
      "metadata": {
        "id": "dl74pCenHEIa"
      },
      "source": [
        "*   Declarația `break` este folosită pentru a ieși din o structură repetitivă. O instrucțiune dată într-o buclă termină imediat bucla. \n",
        "*   Declarația `continue` este folosită pentru a sări peste o porțiune de cod. Aceasta sare la următoarea iterație a buclei, omitând orice cod între ele.\n",
        "\n",
        "\n",
        "\n",
        "\n",
        "\n"
      ]
    },
    {
      "cell_type": "markdown",
      "metadata": {
        "id": "sRJd3wGvKXzP"
      },
      "source": [
        "**Exemplu de folosire a declarației break:**   🏋️  \n",
        "\n"
      ]
    },
    {
      "cell_type": "code",
      "metadata": {
        "id": "GbPbxnF8Klqm"
      },
      "source": [
        "n = 5\n",
        "while n > 0:\n",
        "    n -= 1\n",
        "    if n == 2:\n",
        "        break\n",
        "    print(n)"
      ],
      "execution_count": null,
      "outputs": []
    },
    {
      "cell_type": "markdown",
      "metadata": {
        "id": "2Q-L7FdRK1WY"
      },
      "source": [
        "**Exemplu de folosire a declarației continue:**"
      ]
    },
    {
      "cell_type": "code",
      "metadata": {
        "id": "fHH4gKEBK4-9"
      },
      "source": [
        "n = 5\n",
        "while n > 0:\n",
        "    n = n - 1 #sau n-=1\n",
        "    if n == 2:\n",
        "        continue\n",
        "    print(n)"
      ],
      "execution_count": null,
      "outputs": []
    },
    {
      "cell_type": "markdown",
      "metadata": {
        "id": "pyusJ7t6N_Pj"
      },
      "source": [
        "**Folosirea condiției else**\n",
        "\n",
        "\n",
        "*   Condiția *else* poate fi folosită și în cadrul buclei While.\n",
        "\n"
      ]
    },
    {
      "cell_type": "markdown",
      "metadata": {
        "id": "Z42-1kRmOwZ5"
      },
      "source": [
        "**Exemplu de folosire a condiției else:**"
      ]
    },
    {
      "cell_type": "code",
      "metadata": {
        "id": "OBe_9omQPE5Y"
      },
      "source": [
        "n = 5\n",
        "while n > 0:\n",
        "    n = n - 1\n",
        "    print(n)\n",
        "else:\n",
        "    print('Bucla s-a terminat')"
      ],
      "execution_count": null,
      "outputs": []
    },
    {
      "cell_type": "markdown",
      "metadata": {
        "id": "0hNxCVTtonMR"
      },
      "source": [
        "###Exerciții"
      ]
    },
    {
      "cell_type": "markdown",
      "metadata": {
        "id": "mK1mojEgOtPa"
      },
      "source": [
        "1. În portmoneu ai 45 de lei rezervați pentru călătorii în oraș cu troleibusul. O călătorie cu troleibusul costă 2 lei. Creează un program care să-ți zică după fiecare călătorie cu troleibusul câți bani ti-au rămas, sau dacă nu mai ai suficienți bani pentru o viitoare călătorie cu troleibusul."
      ]
    },
    {
      "cell_type": "code",
      "metadata": {
        "id": "2JsNiKLmo36U"
      },
      "source": [
        ""
      ],
      "execution_count": null,
      "outputs": []
    },
    {
      "cell_type": "markdown",
      "metadata": {
        "id": "6EV-uv6KVEKA"
      },
      "source": [
        "2. Scrie un program care să valideze vârsta user-ilor care își creează cont-uri într-o aplicație. Vârsta acestora trebuie sa fie cuprinsă între 18 și 120 de ani.\n",
        "\n",
        "Hint: Folosește funcția input() în interiorul loop-ului while. "
      ]
    },
    {
      "cell_type": "code",
      "metadata": {
        "id": "_Hk2M3sjVGHV"
      },
      "source": [
        "\n"
      ],
      "execution_count": null,
      "outputs": []
    },
    {
      "cell_type": "markdown",
      "metadata": {
        "id": "jLX3h7iSYRhZ"
      },
      "source": [
        "3. Afiseaza primele 100 de numere pozitive divizibile la 7."
      ]
    },
    {
      "cell_type": "code",
      "metadata": {
        "id": "m6MZ2OieYSUj"
      },
      "source": [
        "\n"
      ],
      "execution_count": null,
      "outputs": []
    },
    {
      "cell_type": "markdown",
      "metadata": {
        "id": "ggWaNn5rRFwd"
      },
      "source": [
        "# Liste"
      ]
    },
    {
      "cell_type": "markdown",
      "metadata": {
        "id": "0F6kvlHQRQWv"
      },
      "source": [
        "\n",
        "\n",
        "*   Listele sunt structuri de date în care putem să stocăm mai multe valori.\n",
        "*   Listele au o ordine, pot fi editate și permit duplicate.\n",
        "* O listă poate conține toate tipurile de valori.\n"
      ]
    },
    {
      "cell_type": "markdown",
      "metadata": {
        "id": "UJFj-028THJK"
      },
      "source": [
        "**Exemplu de listă:**"
      ]
    },
    {
      "cell_type": "code",
      "metadata": {
        "id": "7wpCvIzFTMcN",
        "colab": {
          "base_uri": "https://localhost:8080/"
        },
        "outputId": "f86736f8-3cfa-47f3-91b5-02e0ceca5692"
      },
      "source": [
        "lista_mea = [ False, 56.4, 4, 'Ford', 1j]\n",
        "print(type(lista_mea))"
      ],
      "execution_count": null,
      "outputs": [
        {
          "output_type": "stream",
          "text": [
            "<class 'list'>\n"
          ],
          "name": "stdout"
        }
      ]
    },
    {
      "cell_type": "markdown",
      "metadata": {
        "id": "z1mzZ-3uUWia"
      },
      "source": [
        "**Cum accesăm un element din listă?**\n",
        "\n",
        "\n",
        "*   Este necesar să știm că prima poziție la indexare este 0\n",
        "![textul linkului](https://girlsgoitpublic.z6.web.core.windows.net/2_4.png)\n",
        "\n",
        "\n"
      ]
    },
    {
      "cell_type": "code",
      "metadata": {
        "id": "D4QGP5iDUfmN",
        "colab": {
          "base_uri": "https://localhost:8080/"
        },
        "outputId": "1513ef61-e4af-4dfd-987a-7b60f00455f1"
      },
      "source": [
        "print(lista_mea[1])"
      ],
      "execution_count": null,
      "outputs": [
        {
          "output_type": "stream",
          "text": [
            "56.4\n"
          ],
          "name": "stdout"
        }
      ]
    },
    {
      "cell_type": "code",
      "metadata": {
        "id": "IIxqdNknVSa-",
        "colab": {
          "base_uri": "https://localhost:8080/"
        },
        "outputId": "f0f79203-9641-41ba-c5ed-e098a6d4319f"
      },
      "source": [
        "print(lista_mea[-3])"
      ],
      "execution_count": null,
      "outputs": [
        {
          "output_type": "stream",
          "text": [
            "4\n"
          ],
          "name": "stdout"
        }
      ]
    },
    {
      "cell_type": "markdown",
      "metadata": {
        "id": "fizXF_ahVwlW"
      },
      "source": [
        "**Dar dacă dorim să accesăm mai multe variabile în același timp?**"
      ]
    },
    {
      "cell_type": "code",
      "metadata": {
        "id": "9VyEDHWNVf97",
        "colab": {
          "base_uri": "https://localhost:8080/"
        },
        "outputId": "1c2785dd-4b45-49ab-c5b5-23992ed8e016"
      },
      "source": [
        "print(lista_mea[2:4])"
      ],
      "execution_count": null,
      "outputs": [
        {
          "output_type": "stream",
          "text": [
            "[4, 'Ford']\n"
          ],
          "name": "stdout"
        }
      ]
    },
    {
      "cell_type": "code",
      "metadata": {
        "id": "8PfUWVBYgQI5"
      },
      "source": [
        "# Quick Task: \n",
        "# - afiseaza culoare violet\n",
        "# - afiseaza culorile verde, bej, galben si albastru\n",
        "\n",
        "culori = ['rosu', 'verde', 'bej', 'galben', 'albastru', 'cafeniu', 'violet']\n"
      ],
      "execution_count": null,
      "outputs": []
    },
    {
      "cell_type": "markdown",
      "metadata": {
        "id": "peFlcFJvWHqj"
      },
      "source": [
        "**Cum verificăm dacă un element există în lista noastră?**"
      ]
    },
    {
      "cell_type": "code",
      "metadata": {
        "id": "nlaHEiVJWTyp",
        "colab": {
          "base_uri": "https://localhost:8080/"
        },
        "outputId": "ab67cb65-3f2d-4410-c1da-a4e53bedf2f7"
      },
      "source": [
        "if \"Ford\" in lista_mea:\n",
        "    print('Da, aceste element există în listă')\n",
        "else:\n",
        "    print('Nu, acest element nu există în listă')"
      ],
      "execution_count": null,
      "outputs": [
        {
          "output_type": "stream",
          "text": [
            "Da, aceste element există în listă\n"
          ],
          "name": "stdout"
        }
      ]
    },
    {
      "cell_type": "markdown",
      "metadata": {
        "id": "74VdZrrZXDhq"
      },
      "source": [
        "**Cum înlocuim un element din listă?**"
      ]
    },
    {
      "cell_type": "code",
      "metadata": {
        "id": "guj013wOXLk3",
        "colab": {
          "base_uri": "https://localhost:8080/"
        },
        "outputId": "510b980b-73d7-42db-e3ef-4b303db864d9"
      },
      "source": [
        "lista_mea[2]='Joi'\n",
        "print(lista_mea)"
      ],
      "execution_count": null,
      "outputs": [
        {
          "output_type": "stream",
          "text": [
            "[False, 56.4, 'Joi', 'Ford', 1j]\n"
          ],
          "name": "stdout"
        }
      ]
    },
    {
      "cell_type": "markdown",
      "metadata": {
        "id": "KmkA5XgDXDYC"
      },
      "source": [
        "**Cum adăugăm elemente la lista noastră?**\n",
        "\n",
        "\n",
        "*  .append() - Pentru a adăga un element la un index nespecificat  ⏸️ \n",
        "*  .insert() - Pentru a adăuga un element la un index specificat\n",
        "\n"
      ]
    },
    {
      "cell_type": "markdown",
      "metadata": {
        "id": "tDazeQRbYJnE"
      },
      "source": [
        "**Exemple de folosire .append() și .insert()**"
      ]
    },
    {
      "cell_type": "code",
      "metadata": {
        "id": "qTEzRjGtzVfK"
      },
      "source": [
        "my_list = []\n",
        "x = 7\n",
        "b = 10\n",
        "\n",
        "my_list.append(x)\n",
        "# my_list.append(b)\n",
        "# my_list.append(9)  \n",
        "\n",
        "print(my_list)"
      ],
      "execution_count": null,
      "outputs": []
    },
    {
      "cell_type": "code",
      "metadata": {
        "id": "Z-cnpfwaYGbB",
        "colab": {
          "base_uri": "https://localhost:8080/"
        },
        "outputId": "db2ecfc1-e09a-4bd0-87d6-ce76d8d5d80b"
      },
      "source": [
        "lista_mea.append('Înghețată')\n",
        "print(lista_mea)"
      ],
      "execution_count": null,
      "outputs": [
        {
          "output_type": "stream",
          "text": [
            "[False, 56.4, 4, 'Ford', 1j, 'Înghețată']\n"
          ],
          "name": "stdout"
        }
      ]
    },
    {
      "cell_type": "code",
      "metadata": {
        "id": "aiKzx560XylU",
        "colab": {
          "base_uri": "https://localhost:8080/"
        },
        "outputId": "1d81cf3a-de2e-4961-c72a-85b98fb25a02"
      },
      "source": [
        "lista_mea.insert(1, \"Luni\")\n",
        "print(lista_mea)"
      ],
      "execution_count": null,
      "outputs": [
        {
          "output_type": "stream",
          "text": [
            "[False, 'Luni', 56.4, 4, 'Ford', 1j, 'Înghețată']\n"
          ],
          "name": "stdout"
        }
      ]
    },
    {
      "cell_type": "markdown",
      "metadata": {
        "id": "CrdwaHUwbD61"
      },
      "source": [
        "**Cum unim două liste?**"
      ]
    },
    {
      "cell_type": "code",
      "metadata": {
        "id": "oXCGO-pAbDRu",
        "colab": {
          "base_uri": "https://localhost:8080/"
        },
        "outputId": "6029baaf-719a-4547-a4cf-437bff4e31fe"
      },
      "source": [
        "lista_ta = [True, \"Marte\"]\n",
        "lista_mea.extend(lista_ta)\n",
        "print(lista_mea)"
      ],
      "execution_count": null,
      "outputs": [
        {
          "output_type": "stream",
          "text": [
            "[False, 'Luni', 56.4, 4, 'Ford', 1j, 'Înghețată', True, 'Marte']\n"
          ],
          "name": "stdout"
        }
      ]
    },
    {
      "cell_type": "markdown",
      "metadata": {
        "id": "aAyX3nY1cy4P"
      },
      "source": [
        "**Cum ștergem un element?**\n",
        "\n",
        "\n",
        "*   `.remove()` - Șterge elementul specificat\n",
        "*   `.pop()` și `del` - Șterge elementul cu ajutorul indexului specificat\n",
        "\n",
        "**Exemplu:**\n",
        "\n"
      ]
    },
    {
      "cell_type": "code",
      "metadata": {
        "id": "XpeVcdsphYJR"
      },
      "source": [
        "lista_mea.remove(1j)\n",
        "# lista_mea.pop(5)\n",
        "# del lista_mea[3]\n",
        "print(lista_mea)"
      ],
      "execution_count": null,
      "outputs": []
    },
    {
      "cell_type": "markdown",
      "metadata": {
        "id": "09MzlQqsiYsi"
      },
      "source": [
        "**Cum ștergem o listă?**\n",
        "\n",
        "\n",
        "*   `clear` - șterge conținutul listei\n",
        "*   `del` - șterge lista în sine\n",
        "\n",
        "**Exemplu:**\n",
        "\n"
      ]
    },
    {
      "cell_type": "code",
      "metadata": {
        "id": "3lHboCNtitn6"
      },
      "source": [
        "lista_ta.clear()\n",
        "print(lista_ta)"
      ],
      "execution_count": null,
      "outputs": []
    },
    {
      "cell_type": "code",
      "metadata": {
        "id": "q-y6F1y0sYTS"
      },
      "source": [
        "del lista_ta\n",
        "print(lista_ta)"
      ],
      "execution_count": null,
      "outputs": []
    },
    {
      "cell_type": "markdown",
      "metadata": {
        "id": "CBCmZ252r7m2"
      },
      "source": [
        "\n",
        "\n",
        "Observăm că în acest caz primim o eroare, deoarece încercăm să afișăm o listă ștearsă."
      ]
    },
    {
      "cell_type": "markdown",
      "metadata": {
        "id": "LTfH-55QrvrU"
      },
      "source": [
        "**Cum aflăm câte elemente se află într-o listă?**\n"
      ]
    },
    {
      "cell_type": "code",
      "metadata": {
        "id": "1nu61uw0sAeO",
        "colab": {
          "base_uri": "https://localhost:8080/"
        },
        "outputId": "c2f9695d-f9eb-4023-ab03-c81866b6586b"
      },
      "source": [
        "print(len(lista_mea))"
      ],
      "execution_count": null,
      "outputs": [
        {
          "output_type": "stream",
          "text": [
            "5\n"
          ],
          "name": "stdout"
        }
      ]
    },
    {
      "cell_type": "code",
      "metadata": {
        "id": "URD58S0DyE5J"
      },
      "source": [
        ""
      ],
      "execution_count": null,
      "outputs": []
    },
    {
      "cell_type": "markdown",
      "metadata": {
        "id": "a_Mc-_iht02x"
      },
      "source": [
        "###Exerciții"
      ]
    },
    {
      "cell_type": "markdown",
      "metadata": {
        "id": "jH9k79VMiocH"
      },
      "source": [
        "1. Înlocuiți culoarea roșu cu violet și afișați lista."
      ]
    },
    {
      "cell_type": "code",
      "metadata": {
        "id": "F8pmwBeVt6gy"
      },
      "source": [
        "lista_culori = ['roșu', 'albastru', 'verde']"
      ],
      "execution_count": null,
      "outputs": []
    },
    {
      "cell_type": "markdown",
      "metadata": {
        "id": "21qWO-jJixkk"
      },
      "source": [
        "2. Atribuiți valoarea celui de-al 34-lea element al lst la variabilă `output`."
      ]
    },
    {
      "cell_type": "code",
      "metadata": {
        "id": "qMs-yqlNx8Pd"
      },
      "source": [
        "lst = [\"hi\", \"morning\", \"dog\", \"506\", \"caterpillar\", \"balloons\", 106, \"yo-yo\", \"python\", \"moon\", \"water\", \"sleepy\", \"daffy\", 45, \"donald\", \"whiteboard\", \"glasses\", \"markers\", \"couches\", \"butterfly\", \"100\", \"magazine\", \"door\", \"picture\", \"window\", [\"Olympics\", \"handle\"], \"chair\", \"pages\", \"readings\", \"burger\", \"juggle\", \"craft\", [\"store\", \"poster\", \"board\"], \"laptop\", \"computer\", \"plates\", \"hotdog\", \"salad\", \"backpack\", \"zipper\", \"ring\", \"watch\", \"finger\", \"bags\", \"boxes\", \"pods\", \"peas\", \"apples\", \"horse\", \"guinea pig\", \"bowl\", \"EECS\"]\n",
        "\n"
      ],
      "execution_count": null,
      "outputs": []
    },
    {
      "cell_type": "markdown",
      "metadata": {
        "id": "96acVBGY00om"
      },
      "source": [
        "3. Scrieți un program care extrage ultimele trei elemente din lista `sports` și îl atribuie variabilei `last`. Asigurați-vă că scrieți codul astfel încât să funcționeze indiferent de câte elemente sunt în listă."
      ]
    },
    {
      "cell_type": "code",
      "metadata": {
        "id": "Z92n-cSH1B5s"
      },
      "source": [
        "sports = ['cricket', 'football', 'volleyball', 'baseball', 'softball', 'track and field', 'curling', 'ping pong', 'hockey']\n",
        "\n"
      ],
      "execution_count": null,
      "outputs": []
    },
    {
      "cell_type": "markdown",
      "metadata": {
        "id": "CPIYj_DU1E1F"
      },
      "source": [
        "4. Atribuiți ultimul element al `lst` variabilei `end_elem`. Faceți acest lucru astfel încât să funcționeze, indiferent cât de lungă este."
      ]
    },
    {
      "cell_type": "code",
      "metadata": {
        "id": "FFSv2Kpv1WkY"
      },
      "source": [
        "lst = [\"hi\", \"goodbye\", \"python\", \"106\", \"506\", 91, ['all', 'Paul', 'Jackie', \"UMSI\", 1, \"Stephen\", 4.5], 109, \"chair\", \"pizza\", \"wolverine\", 2017, 3.92, 1817, \"account\", \"readings\", \"papers\", 12, \"facebook\", \"twitter\", 193.2, \"snapchat\", \"leaders and the best\", \"social\", \"1986\", 9, 29, \"holiday\", [\"women\", \"olympics\", \"gold\", \"rio\", 21, \"2016\", \"men\"], \"26trombones\"]\n",
        "\n",
        "\n"
      ],
      "execution_count": null,
      "outputs": []
    },
    {
      "cell_type": "markdown",
      "metadata": {
        "id": "m-oNfj-l20t8"
      },
      "source": [
        "5. Atribuiți numărul de elemente din `lst `variabilei `num_lst`."
      ]
    },
    {
      "cell_type": "code",
      "metadata": {
        "id": "0S3VtNwp23qE"
      },
      "source": [
        "lst = [\"hi\", \"goodbye\", \"python\", \"106\", \"506\", 91, ['all', 'Paul', 'Jackie', \"UMSI\", 1, \"Stephen\", 4.5], 109, \"chair\", \"pizza\", \"wolverine\", 2017, 3.92, 1817, \"account\", \"readings\", \"papers\", 12, \"facebook\", \"twitter\", 193.2, \"snapchat\", \"leaders and the best\", \"social\", \"1986\", 9, 29, \"holiday\", [\"women\", \"olympics\", \"gold\", \"rio\", 21, \"2016\", \"men\"], \"26trombones\"]\n",
        "\n"
      ],
      "execution_count": null,
      "outputs": []
    },
    {
      "cell_type": "markdown",
      "metadata": {
        "id": "l6Unc__86NCI"
      },
      "source": [
        "# Lista de liste"
      ]
    },
    {
      "cell_type": "markdown",
      "metadata": {
        "id": "KTh0nfLU7dAg"
      },
      "source": [
        "![textul linkului](https://girlsgoitpublic.z6.web.core.windows.net/2_2.jpg)"
      ]
    },
    {
      "cell_type": "code",
      "metadata": {
        "id": "QRBT4qQJ80T0"
      },
      "source": [
        "# avem stocate valorile din fiecare rând al tabelului în câte o listă.\n",
        "\n",
        "header = ['name', 'gender', 'eye_color', 'race', 'hair_color', 'height', \n",
        "           'alignement', 'weight']\n",
        "r1 = ['Black Widow', 'Female', 'green', 'Human', 'Auburn', 170.0, 'good', 59.0]\n",
        "r2 = ['Thanos', 'Male', 'red', 'Eternal', 'No Hair', 201.0, 'bad', 443.0]\n",
        "r3 = ['Deadpool', 'Male', 'brown', 'Mutant', 'No Hair', 188.0, 'neutral', 95.0]\n",
        "r4 = ['Captain Marvel','Female','blue','Human-Kree','Blond',180.0,'good',74.0]\n",
        "r5 = ['Doctor Strange', 'Male', 'grey', 'Human', 'Black', 188.0, 'good', 81.0]\n",
        "r6 = ['Iron Man', 'Male', 'blue', 'Human', 'Black', 198.0, 'good', 191.0]\n",
        "r7 = ['Thor', 'Male', 'blue', 'Asgardian', 'Blond', 198.0, 'good', 288.0]\n",
        "r8 = ['Venom','Male','blue','Symbiote','Strawberry Blond',191.0,'bad',117.0]\n",
        "\n",
        "# în baza de date originală sunt 215 eroi\n",
        "# asta ar însemna 215 rânduri respectiv 215 variabile\n",
        "\n",
        "# mai jos avem o singură variabilă pentru toate rândurile\n",
        "marvel = [header, r1, r2, r3, r4, r5, r6, r7, r8]\n",
        "\n",
        "# haideți să investigăm cum arată lista marvel\n",
        "marvel"
      ],
      "execution_count": null,
      "outputs": []
    },
    {
      "cell_type": "markdown",
      "metadata": {
        "id": "zb8F14lr8-CY"
      },
      "source": [
        "**Cum selectăm?**"
      ]
    },
    {
      "cell_type": "code",
      "metadata": {
        "id": "NyybfS1G81Bg"
      },
      "source": [
        "# accesăm un element din lista de liste exact așa cum accesăm într-o listă \n",
        "# obișnuită un element\n",
        "\n",
        "print(marvel[2])\n",
        "# print(marvel[2:4])\n",
        "\n",
        "# ce observați? ce s-a afișat?"
      ],
      "execution_count": null,
      "outputs": []
    },
    {
      "cell_type": "markdown",
      "metadata": {
        "id": "6-sWPVij-tms"
      },
      "source": [
        "Dar cum accesăm un element din lista unei liste?\n",
        "\n",
        "Mai jos avem o listă de liste reprezentată ca o matrice. Observați că unui element din lista de liste îi corespund indecșii conform cu poziția sa în matrice.\n",
        "\n",
        "Respectiv primului element dintr-o listă din listă s-ar poziționa în rândul 0 și coloana 0.\n",
        "\n",
        "În exemplul 2 avem un element din rândul 1, coloana 2."
      ]
    },
    {
      "cell_type": "markdown",
      "metadata": {
        "id": "OE1Lhezu6RW0"
      },
      "source": [
        "![textul linkului](https://girlsgoitpublic.z6.web.core.windows.net/2_1.png)"
      ]
    },
    {
      "cell_type": "code",
      "metadata": {
        "id": "XjYut-ND6SAK"
      },
      "source": [
        "# mai întâi haideți să accesăm denumirile coloanelor lui marvel\n",
        "marvel[0]           # primul rând l-am rezervat pentru numele coloanelor "
      ],
      "execution_count": null,
      "outputs": []
    },
    {
      "cell_type": "code",
      "metadata": {
        "id": "-0NAUrEg_h0I"
      },
      "source": [
        "# numele primului erou\n",
        "print(marvel[][])\n"
      ],
      "execution_count": null,
      "outputs": []
    },
    {
      "cell_type": "markdown",
      "metadata": {
        "id": "dCqhuWttFrx3"
      },
      "source": [
        "**Exerciții:**"
      ]
    },
    {
      "cell_type": "markdown",
      "metadata": {
        "id": "Ax4Mu-tyE_c4"
      },
      "source": [
        "1. Ce culoare a părului are al doilea erou?\n",
        "\n",
        "\n"
      ]
    },
    {
      "cell_type": "code",
      "metadata": {
        "id": "D1XM4S3bFgui"
      },
      "source": [
        ""
      ],
      "execution_count": null,
      "outputs": []
    },
    {
      "cell_type": "markdown",
      "metadata": {
        "id": "VveP-rVbjgWX"
      },
      "source": [
        "2. Ce greutate are ultimul erou din listă?\n"
      ]
    },
    {
      "cell_type": "code",
      "metadata": {
        "id": "5PnXt_PZFfld"
      },
      "source": [
        ""
      ],
      "execution_count": null,
      "outputs": []
    },
    {
      "cell_type": "markdown",
      "metadata": {
        "id": "E3VHhKjbF3ab"
      },
      "source": [
        "# For loop"
      ]
    },
    {
      "cell_type": "markdown",
      "metadata": {
        "id": "ecPl3_quisq_"
      },
      "source": [
        "*   Ciclul `for` produce o iterare definită.\n",
        "*   Ciclul `for` ține cont de indentarea codului.\n",
        "\n",
        "**Structura buclei for:**\n",
        ">![textul linkului](https://girlsgoitpublic.z6.web.core.windows.net/2_5.png)"
      ]
    },
    {
      "cell_type": "code",
      "metadata": {
        "id": "0WmL2X9CkTtj"
      },
      "source": [
        "#for <condiție>:\n",
        "#    <instrucțiune>"
      ],
      "execution_count": null,
      "outputs": []
    },
    {
      "cell_type": "markdown",
      "metadata": {
        "id": "vr7iSeQ4lZqN"
      },
      "source": [
        "**Exemplu de lucru al buclei For:**"
      ]
    },
    {
      "cell_type": "code",
      "metadata": {
        "id": "5x8i37HTmVcF"
      },
      "source": [
        "fructe = [\"măr\", \"banană\", \"ananas\"]\n",
        "for x in fructe:\n",
        "  print(x)"
      ],
      "execution_count": null,
      "outputs": []
    },
    {
      "cell_type": "code",
      "metadata": {
        "id": "vU7ng68x4KO_"
      },
      "source": [
        "for name in [\"Joe\", \"Amy\", \"Brad\", \"Angelina\", \"Zuki\", \"Thandi\", \"Paris\"]:\n",
        "    print(\"Hi\", name, \"Please come to my party on Saturday!\")\n"
      ],
      "execution_count": null,
      "outputs": []
    },
    {
      "cell_type": "code",
      "metadata": {
        "id": "UJAAk8fZljF2"
      },
      "source": [
        "votes = [8575855, 5555, 54433, 1001, 14000]\n",
        "votes_good = 10000\n",
        "for x in votes:\n",
        "    if x < votes_good:\n",
        "        votes.remove(x)\n",
        "print(votes)\n"
      ],
      "execution_count": null,
      "outputs": []
    },
    {
      "cell_type": "code",
      "metadata": {
        "id": "NoQxbQZbljsX"
      },
      "source": [
        "votes = [8575855, 5555, 54433, 1001, 14000]\n",
        "votes_good = 10000\n",
        "for x in votes:\n",
        "    if x < votes_good:\n",
        "        votes.remove(x)\n",
        "        print(votes)\n"
      ],
      "execution_count": null,
      "outputs": []
    },
    {
      "cell_type": "markdown",
      "metadata": {
        "id": "7UGCHMtfylVk"
      },
      "source": [
        ""
      ]
    },
    {
      "cell_type": "markdown",
      "metadata": {
        "id": "g3nKqDuzo0iQ"
      },
      "source": [
        "# Range"
      ]
    },
    {
      "cell_type": "code",
      "metadata": {
        "colab": {
          "base_uri": "https://localhost:8080/"
        },
        "id": "-9it7_0Ko36d",
        "outputId": "c2ed6800-d2b5-4a7a-ff88-d2a0c6b9c3d8"
      },
      "source": [
        "for i in range(1, 10):\n",
        "    print(i)"
      ],
      "execution_count": null,
      "outputs": [
        {
          "output_type": "stream",
          "text": [
            "1\n",
            "2\n",
            "3\n",
            "4\n",
            "5\n",
            "6\n",
            "7\n",
            "8\n",
            "9\n"
          ],
          "name": "stdout"
        }
      ]
    },
    {
      "cell_type": "markdown",
      "metadata": {
        "id": "AntATbhIp0_6"
      },
      "source": [
        "![textul linkului](https://soshace.com/wp-content/uploads/2019/09/Python-range-Explained-and-Visualized-range-stop-parameter.png)\n"
      ]
    },
    {
      "cell_type": "code",
      "metadata": {
        "colab": {
          "base_uri": "https://localhost:8080/"
        },
        "id": "BXG0VWI5pYYZ",
        "outputId": "99ab948f-5375-49dd-b3e8-046b0db4e48b"
      },
      "source": [
        "for i in range(5, 50, 10):\n",
        "    print(i)"
      ],
      "execution_count": null,
      "outputs": [
        {
          "output_type": "stream",
          "text": [
            "5\n",
            "15\n",
            "25\n",
            "35\n",
            "45\n"
          ],
          "name": "stdout"
        }
      ]
    },
    {
      "cell_type": "code",
      "metadata": {
        "colab": {
          "base_uri": "https://localhost:8080/"
        },
        "id": "5uaTLWtTpKY8",
        "outputId": "429c2230-baa0-432e-8cda-04a821170507"
      },
      "source": [
        "for i in range(10, 1, -1):\n",
        "    print(i)\n",
        "\n",
        "\n",
        "# cum de afisat de la 9 la 1?"
      ],
      "execution_count": null,
      "outputs": [
        {
          "output_type": "stream",
          "text": [
            "10\n",
            "9\n",
            "8\n",
            "7\n",
            "6\n",
            "5\n",
            "4\n",
            "3\n",
            "2\n"
          ],
          "name": "stdout"
        }
      ]
    },
    {
      "cell_type": "markdown",
      "metadata": {
        "id": "iSIWn9wqyrDp"
      },
      "source": [
        "## Exerciții"
      ]
    },
    {
      "cell_type": "markdown",
      "metadata": {
        "id": "Gt3YArJy9rSl"
      },
      "source": [
        "1. Inversați lista de mai jos utilizând un for loop. 🚶  "
      ]
    },
    {
      "cell_type": "code",
      "metadata": {
        "id": "Ce2Jy8xP9tc1"
      },
      "source": [
        "list1 = [10, 20, 30, 40, 50]\n"
      ],
      "execution_count": null,
      "outputs": []
    },
    {
      "cell_type": "markdown",
      "metadata": {
        "id": "MJlTFfVb9yR1"
      },
      "source": [
        "2. Afișați secvența de mai jos cu ajutorul a 2 for loop-uri"
      ]
    },
    {
      "cell_type": "code",
      "metadata": {
        "id": "nW5uUFs294Ie"
      },
      "source": [
        "1 2 3 4 5 \n",
        "1 2 3 4 \n",
        "1 2 3 \n",
        "1 2 \n",
        "1"
      ],
      "execution_count": null,
      "outputs": []
    },
    {
      "cell_type": "markdown",
      "metadata": {
        "id": "I8RIsZaE99Xx"
      },
      "source": [
        "3. Parcurgeți lista de numere de mai jos până nu ajungeți la 150 și afișați toate numerele divizibile cu 5."
      ]
    },
    {
      "cell_type": "code",
      "metadata": {
        "id": "ATnwDjj9-CXR"
      },
      "source": [
        "list1 = [12, 15, 32, 42, 55, 75, 122, 132, 150, 180, 200]"
      ],
      "execution_count": null,
      "outputs": []
    },
    {
      "cell_type": "markdown",
      "metadata": {
        "id": "Qz84n1Mq-Fy6"
      },
      "source": [
        "4. Creați o listă nouă în care să includeți stringurile din cele 2 liste de mai jos, concatinate în funcție de index și afișați-o."
      ]
    },
    {
      "cell_type": "code",
      "metadata": {
        "id": "FOc_IKIKAJcb"
      },
      "source": [
        "list1 = [\"M\", \"na\", \"i\", \"I\"]\n",
        "list2 = [\"y\", \"me\", \"s\", \"na\"]\n"
      ],
      "execution_count": null,
      "outputs": []
    },
    {
      "cell_type": "markdown",
      "metadata": {
        "id": "e5AWIqvDAxlO"
      },
      "source": [
        "5. Găsiți în lista de mai jos valoarea 20 și înlocuiți-o cu 200."
      ]
    },
    {
      "cell_type": "code",
      "metadata": {
        "id": "6h60vcvpAzsi"
      },
      "source": [
        "list1 = [5, 10, 15, 20, 25, 50, 20]"
      ],
      "execution_count": null,
      "outputs": []
    },
    {
      "cell_type": "markdown",
      "metadata": {
        "id": "AiPVVPam4eGy"
      },
      "source": [
        "6. Scrieți un `for loop` pentru a imprima fiecare caracter al șirului `my_str` pe o linie separată."
      ]
    },
    {
      "cell_type": "code",
      "metadata": {
        "id": "pPun1duL4dzL"
      },
      "source": [
        "my_str = \"MICHIGAN\"\n",
        "\n"
      ],
      "execution_count": null,
      "outputs": []
    },
    {
      "cell_type": "markdown",
      "metadata": {
        "id": "BQnuy96W4tGc"
      },
      "source": [
        "7. Scrieți cod care utilizează iterația pentru a imprima lungimea fiecărui element al listei stocate în str_list."
      ]
    },
    {
      "cell_type": "code",
      "metadata": {
        "id": "VkTlcRUc46Ol"
      },
      "source": [
        "str_list = [\"hello\", \"\", \"goodbye\", \"wonderful\", \"I love Python\"]\n",
        "\n",
        "# Write your code here.\n"
      ],
      "execution_count": null,
      "outputs": []
    },
    {
      "cell_type": "markdown",
      "metadata": {
        "id": "qa62Y2o15A49"
      },
      "source": [
        "8. Scrieți un `for loop` pentru a imprima fiecare element al listei several_things. Apoi, scrieți un alt `for loop` pentru a imprima TIPUL fiecărui element al listei several_things. Pentru a rezolva această problemă, ar fi trebuit să scrieți două bucle diferite, fiecare dintre acestea iterand peste several_things, dar fiecare dintre cele 2 bucle ar trebui să aibă un rezultat diferit."
      ]
    },
    {
      "cell_type": "code",
      "metadata": {
        "id": "jG9lnuYA5ek2"
      },
      "source": [
        "several_things = [\"hello\", 2, 4, 6.0, 7.5, 234352354, \"the end\", \"\", 99]\n",
        "\n"
      ],
      "execution_count": null,
      "outputs": []
    },
    {
      "cell_type": "markdown",
      "metadata": {
        "id": "odMV-9EH6Fsy"
      },
      "source": [
        "9. Scrieți cod pentru a crea o listă de numere de la 0 la 67 și atribuiți lista respectivă variabilei nums."
      ]
    },
    {
      "cell_type": "code",
      "metadata": {
        "id": "12m_aHiH6M4I"
      },
      "source": [
        "#ideas...."
      ],
      "execution_count": null,
      "outputs": []
    },
    {
      "cell_type": "markdown",
      "metadata": {
        "id": "TBhjUKQ6mvuj"
      },
      "source": [
        "# Funcții"
      ]
    },
    {
      "cell_type": "markdown",
      "metadata": {
        "id": "oENLkCTPnRPs"
      },
      "source": [
        "\n",
        "\n",
        "*   O funcție este un bloc de cod, ce poate fi folosit mai târziu în program\n",
        "*Structura funcției ține cont de indentarea codului\n",
        "*   Este folosit pentru reducerea volumului și izolarea de cod scris\n",
        "\n",
        "**Structura unei funcții:**\n",
        "\n",
        "![textul linkului](https://girlsgoitpublic.z6.web.core.windows.net/2_8.png)"
      ]
    },
    {
      "cell_type": "code",
      "metadata": {
        "id": "0p2FBf7opikv"
      },
      "source": [
        "# def numele_funcției(<argumentele folosite în funcție, despărțite prin virgilă):\n",
        "#    <instrucțiuni>\n",
        "\n",
        "#numele_funcției()\n"
      ],
      "execution_count": null,
      "outputs": []
    },
    {
      "cell_type": "code",
      "metadata": {
        "id": "n5w2m47sruww",
        "colab": {
          "base_uri": "https://localhost:8080/"
        },
        "outputId": "b84143c5-7747-4344-e19c-3cce23b50921"
      },
      "source": [
        "def my_function():\n",
        "  print(\"Buna ziua!\")\n",
        "\n",
        "my_function()"
      ],
      "execution_count": null,
      "outputs": [
        {
          "output_type": "stream",
          "text": [
            "Buna ziua!\n"
          ],
          "name": "stdout"
        }
      ]
    },
    {
      "cell_type": "markdown",
      "metadata": {
        "id": "0POvqvF_szdg"
      },
      "source": [
        "**După cum am menționat mai devreme, putem folosi argumente în funcții:**"
      ]
    },
    {
      "cell_type": "code",
      "metadata": {
        "id": "wiwSczGvszGo",
        "colab": {
          "base_uri": "https://localhost:8080/"
        },
        "outputId": "2745abb9-0776-4786-b4fc-3b191ae8155e"
      },
      "source": [
        "def medie_doua_cifre(a,b):\n",
        "    media = (a + b)/2\n",
        "    \n",
        "    return media\n",
        "\n",
        "\n",
        "medie_doua_cifre(5,6)"
      ],
      "execution_count": null,
      "outputs": [
        {
          "output_type": "execute_result",
          "data": {
            "text/plain": [
              "5.5"
            ]
          },
          "metadata": {
            "tags": []
          },
          "execution_count": 40
        }
      ]
    },
    {
      "cell_type": "markdown",
      "metadata": {
        "id": "77XqvXBKuF69"
      },
      "source": [
        "**Important!**\n",
        "* Dacă avem mai multe argumente pe care dorim să le folosim, adăugăm un asterisc în fața argumentului din paranteze\n",
        "\n",
        "**Exemplu:**"
      ]
    },
    {
      "cell_type": "code",
      "metadata": {
        "id": "ZhA54Afxj2xR",
        "colab": {
          "base_uri": "https://localhost:8080/"
        },
        "outputId": "fd5ee4f6-c47b-4120-ceac-e838cbd296b0"
      },
      "source": [
        "# argumentele cu asterisc(var args) se indica tot timpul dupa argumentele obisnuite\n",
        "\n",
        "def say_hello_to(greeting, *names):\n",
        "    for name in names:\n",
        "        print(greeting + name)\n",
        "\n",
        "\n",
        "say_hello_to(\"Salut \", \"Tetris\", \"Larnaca\", \"Abu\", \"Candi\", \"Loki\")"
      ],
      "execution_count": null,
      "outputs": [
        {
          "output_type": "stream",
          "text": [
            "Salut Tetris\n",
            "Salut Larnaca\n",
            "Salut Abu\n",
            "Salut Candi\n",
            "Salut Loki\n"
          ],
          "name": "stdout"
        }
      ]
    },
    {
      "cell_type": "markdown",
      "metadata": {
        "id": "GGn4n9tcA3wQ"
      },
      "source": [
        "## Exerciții"
      ]
    },
    {
      "cell_type": "markdown",
      "metadata": {
        "id": "X76Fe4bJA52R"
      },
      "source": [
        "1. Creați o funcție care ar accepta ca argumente 2 numere și ar întoarce suma și diferența acestora."
      ]
    },
    {
      "cell_type": "code",
      "metadata": {
        "id": "ch2KHeFdA86V"
      },
      "source": [
        "def calculation(a, b):\n",
        "    # Your Code\n",
        "\n",
        "res = calculation(40, 10)\n",
        "print(res)"
      ],
      "execution_count": null,
      "outputs": []
    },
    {
      "cell_type": "markdown",
      "metadata": {
        "id": "K8RSaPHjA_cE"
      },
      "source": [
        "2. Creați o funcție care ar primi ca argument o listă și ar afișa cel mai mare număr par din aceasta."
      ]
    },
    {
      "cell_type": "code",
      "metadata": {
        "id": "BhuKPuCRBBpG"
      },
      "source": [
        "a_list = [4, 3, 6, 9, 8, 12, 25, 2]"
      ],
      "execution_count": null,
      "outputs": []
    },
    {
      "cell_type": "markdown",
      "metadata": {
        "id": "GTo083FpBEBc"
      },
      "source": [
        "3. Creați o funcție care ar calcula factorialul numărului din exercițiul precedent"
      ]
    },
    {
      "cell_type": "code",
      "metadata": {
        "id": "28rdNz2mBGDM"
      },
      "source": [
        ""
      ],
      "execution_count": null,
      "outputs": []
    },
    {
      "cell_type": "markdown",
      "metadata": {
        "id": "dGOHn91G6glt"
      },
      "source": [
        "4. Scrieți o funcție numită `int_return` care ia un număr întreg ca intrare și returnează același număr întreg."
      ]
    },
    {
      "cell_type": "code",
      "metadata": {
        "id": "ubr5o8-96ivn"
      },
      "source": [
        ""
      ],
      "execution_count": null,
      "outputs": []
    },
    {
      "cell_type": "markdown",
      "metadata": {
        "id": "D835Kt3E6pg_"
      },
      "source": [
        "5. Scrieți o funcție numită `add` care ia orice număr ca `input` și returnează suma respectivă cu + 2."
      ]
    },
    {
      "cell_type": "code",
      "metadata": {
        "id": "yJAk65qh6wCl"
      },
      "source": [
        ""
      ],
      "execution_count": null,
      "outputs": []
    },
    {
      "cell_type": "markdown",
      "metadata": {
        "id": "zDToNf636wiP"
      },
      "source": [
        "6. Scrieți o funcție numită `change` care ia orice `string` , adăugând „Mă bucur să vă cunosc!” la sfârșitul argumentului dat și returnează acel șir nou."
      ]
    },
    {
      "cell_type": "code",
      "metadata": {
        "id": "z9QUXanW68Ys"
      },
      "source": [
        ""
      ],
      "execution_count": null,
      "outputs": []
    },
    {
      "cell_type": "markdown",
      "metadata": {
        "id": "wfpOAHGQ69BW"
      },
      "source": [
        "7. Scrieți o funcție,` acumm`, care ia o listă de numere întregi ca `inpu`t și returnează suma acestor numere întregi."
      ]
    },
    {
      "cell_type": "code",
      "metadata": {
        "id": "Dk7-rSIJ7JNO"
      },
      "source": [
        ""
      ],
      "execution_count": null,
      "outputs": []
    },
    {
      "cell_type": "markdown",
      "metadata": {
        "id": "tQsGv_qO7Jju"
      },
      "source": [
        "8. Scrieți o funcție, `lenght`, care primește o listă ca `input`. Dacă lungimea listei este mai mare sau egală cu 5, `return` „Mai mult decât 5”. Dacă lungimea este mai mică de 5, `return` „Mai puțin de 5”."
      ]
    },
    {
      "cell_type": "code",
      "metadata": {
        "id": "jkO5bYKk7hWI"
      },
      "source": [
        ""
      ],
      "execution_count": null,
      "outputs": []
    },
    {
      "cell_type": "markdown",
      "metadata": {
        "id": "n8NdV8f87i82"
      },
      "source": [
        "9. Scrieți o funcție numită `is_even` care ia un integer ca argument și returnează `True` dacă argumentul este un număr par și `False` dacă este impar."
      ]
    },
    {
      "cell_type": "code",
      "metadata": {
        "id": "umnDeyvJ8EAe"
      },
      "source": [
        ""
      ],
      "execution_count": null,
      "outputs": []
    },
    {
      "cell_type": "markdown",
      "metadata": {
        "id": "uAzKFE3w8EeO"
      },
      "source": [
        "10. Scrieți o funcție numită `num_test` care ia un număr ca input. Dacă numărul este mai mare de 10, funcția ar trebui să returneze `„Mai mare decât 10.”` Dacă numărul este mai mic de 10, funcția ar trebui să returneze `„Mai puțin de 10.” `Dacă numărul este egal cu 10, funcția ar trebui să returneze `„Egal cu 10.”`"
      ]
    },
    {
      "cell_type": "code",
      "metadata": {
        "id": "U5gC1NKR8huq"
      },
      "source": [
        ""
      ],
      "execution_count": null,
      "outputs": []
    },
    {
      "cell_type": "markdown",
      "metadata": {
        "id": "WM_IjaZcj4Tx"
      },
      "source": [
        "# Exemplu Menu  "
      ]
    },
    {
      "cell_type": "code",
      "metadata": {
        "id": "Qjl3780Cg08Y"
      },
      "source": [
        "fructe = ['mere', 'banane', 'pere', 'prune', 'cirese']"
      ],
      "execution_count": null,
      "outputs": []
    },
    {
      "cell_type": "code",
      "metadata": {
        "id": "BEwoTh3ohD6r"
      },
      "source": [
        "optiuni = [1, 2, 3]\n",
        "descriere_optiuni = [\"Afisare lista de fructe\", \"Adaugare fruct nou\", \"Stergere fruct\"]"
      ],
      "execution_count": null,
      "outputs": []
    },
    {
      "cell_type": "code",
      "metadata": {
        "id": "eBWR9V61hEzE"
      },
      "source": [
        "def afisare_lista():\n",
        "    for fruct in fructe:\n",
        "            print(fruct)"
      ],
      "execution_count": null,
      "outputs": []
    },
    {
      "cell_type": "code",
      "metadata": {
        "id": "the_R7PEhFjP"
      },
      "source": [
        "def adaugare_fruct():\n",
        "    print('Adauga un fruct nou:')\n",
        "    fruct_nou = input()\n",
        "    fructe.append(fruct_nou)\n",
        "    \n",
        "    print(fruct_nou, \"a fost adaugat cu succes!\")"
      ],
      "execution_count": null,
      "outputs": []
    },
    {
      "cell_type": "code",
      "metadata": {
        "id": "evVp2GLshFzy"
      },
      "source": [
        "def stergere_fruct():\n",
        "    print('Scrie fructul care trebuie sa fie sters:')\n",
        "    fruct_de_sters = input()\n",
        "    try:\n",
        "        fructe.remove(fruct_de_sters)\n",
        "        print(fruct_de_sters, \"a fost sters\")\n",
        "    except:\n",
        "        print(\"Acest fruct nu este in lista.\")"
      ],
      "execution_count": null,
      "outputs": []
    },
    {
      "cell_type": "code",
      "metadata": {
        "id": "SHzQsUbAhGBk"
      },
      "source": [
        "def menu():\n",
        "    print(\"Alege o optiune din acest Menu:\")\n",
        "    for optiune, descriere in zip(optiuni, descriere_optiuni):\n",
        "        print(optiune, \":\", descriere)\n",
        "    \n",
        "    opt = int(input())\n",
        "# 🏠\n",
        "    if opt == 1:\n",
        "        afisare_lista()\n",
        "        \n",
        "    elif opt == 2:\n",
        "        adaugare_fruct()\n",
        "        \n",
        "    elif opt == 3:\n",
        "        stergere_fruct()"
      ],
      "execution_count": null,
      "outputs": []
    },
    {
      "cell_type": "code",
      "metadata": {
        "id": "fdejn4GLhXRV"
      },
      "source": [
        "menu()"
      ],
      "execution_count": null,
      "outputs": []
    },
    {
      "cell_type": "code",
      "metadata": {
        "id": "99gAOQFEhq1-"
      },
      "source": [
        ""
      ],
      "execution_count": null,
      "outputs": []
    }
  ]
}