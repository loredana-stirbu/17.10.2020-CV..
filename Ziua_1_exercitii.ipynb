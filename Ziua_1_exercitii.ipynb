{
  "nbformat": 4,
  "nbformat_minor": 0,
  "metadata": {
    "colab": {
      "name": "Ziua_1_exercitii.ipynb",
      "provenance": [],
      "collapsed_sections": [],
      "include_colab_link": true
    },
    "kernelspec": {
      "name": "python3",
      "display_name": "Python 3"
    }
  },
  "cells": [
    {
      "cell_type": "markdown",
      "metadata": {
        "id": "view-in-github",
        "colab_type": "text"
      },
      "source": [
        "<a href=\"https://colab.research.google.com/github/loredana-stirbu/17.10.2020-CV../blob/master/Ziua_1_exercitii.ipynb\" target=\"_parent\"><img src=\"https://colab.research.google.com/assets/colab-badge.svg\" alt=\"Open In Colab\"/></a>"
      ]
    },
    {
      "cell_type": "markdown",
      "metadata": {
        "id": "AxPWa2U5fKf5"
      },
      "source": [
        "1. Avem a = -2, b=3.33. Afla ce tip de date reprezinta variabilele a și b."
      ]
    },
    {
      "cell_type": "code",
      "metadata": {
        "id": "NJWP_OsjfcGy",
        "outputId": "b41e18dd-f2e5-4230-8c3a-5ef7382c5ec3",
        "colab": {
          "base_uri": "https://localhost:8080/"
        }
      },
      "source": [
        "a=-2\n",
        "b=3.33\n",
        "print(type(a))\n",
        "print(type(b))"
      ],
      "execution_count": 2,
      "outputs": [
        {
          "output_type": "stream",
          "text": [
            "<class 'int'>\n",
            "<class 'float'>\n"
          ],
          "name": "stdout"
        }
      ]
    },
    {
      "cell_type": "markdown",
      "metadata": {
        "id": "DY7az5RfZ6fs"
      },
      "source": [
        "2. Calculeaza in Python si printeaza rezultatul sumei 35718 + 76983."
      ]
    },
    {
      "cell_type": "code",
      "metadata": {
        "id": "eEh1aSCvgZyZ",
        "outputId": "ad45394e-542e-4686-9bfb-fff90eb166ee",
        "colab": {
          "base_uri": "https://localhost:8080/"
        }
      },
      "source": [
        "print(35718+76983)"
      ],
      "execution_count": 6,
      "outputs": [
        {
          "output_type": "stream",
          "text": [
            "Suma obtinuta este 112701\n"
          ],
          "name": "stdout"
        }
      ]
    },
    {
      "cell_type": "markdown",
      "metadata": {
        "id": "OhViKyv2mGQ3"
      },
      "source": [
        "3. Atribuie variabilei `motto` string-ul `\"Facebook's old motto was \"move fast and break things\"\"`. Afișează valoarea variabilei `motto` utilizând funcția `print()`.\n"
      ]
    },
    {
      "cell_type": "code",
      "metadata": {
        "id": "fOCTL7xkQd-s",
        "outputId": "00f3accd-46da-4a4a-a57f-8fd99d78717d",
        "colab": {
          "base_uri": "https://localhost:8080/"
        }
      },
      "source": [
        "motto= \"Facebook's old motto was ''move fast and break things''\"\n",
        "print(motto)"
      ],
      "execution_count": 7,
      "outputs": [
        {
          "output_type": "stream",
          "text": [
            "Facebook's old motto was ''move fast and break things''\n"
          ],
          "name": "stdout"
        }
      ]
    },
    {
      "cell_type": "markdown",
      "metadata": {
        "id": "hSAor40eQAs9"
      },
      "source": [
        "4. Calculeaza, utlizand operatorii Python, cate secunde au trecut de la inceputul zilei daca in acest moment ar fi ora 14:55. "
      ]
    },
    {
      "cell_type": "code",
      "metadata": {
        "id": "q-v1tEEhmPuc",
        "outputId": "0405321f-5b8b-46f2-c8fe-9f59e1824efb",
        "colab": {
          "base_uri": "https://localhost:8080/"
        }
      },
      "source": [
        "ore_de_la_inceputul_zilei=9.05\n",
        "ore_sec=9*3600\n",
        "minute_sec=5*60\n",
        "secunde=ore_sec+minute_sec\n",
        "print(secunde)"
      ],
      "execution_count": 7,
      "outputs": [
        {
          "output_type": "stream",
          "text": [
            "32700\n"
          ],
          "name": "stdout"
        }
      ]
    },
    {
      "cell_type": "markdown",
      "metadata": {
        "id": "J30-zmtT-BWl"
      },
      "source": [
        "5. Aflati restul impartirii 50/15."
      ]
    },
    {
      "cell_type": "code",
      "metadata": {
        "id": "FK14zPGOTPvj",
        "outputId": "657ac209-6b5a-482b-8c46-c4d186ef2dad",
        "colab": {
          "base_uri": "https://localhost:8080/"
        }
      },
      "source": [
        "print(50%15)"
      ],
      "execution_count": 8,
      "outputs": [
        {
          "output_type": "stream",
          "text": [
            "5\n"
          ],
          "name": "stdout"
        }
      ]
    },
    {
      "cell_type": "markdown",
      "metadata": {
        "id": "OQEFWmPGTQ84"
      },
      "source": [
        "7. Efectueaza urmatoarele operatiuni folosind Python.\n",
        "\n",
        "\n",
        "\n",
        "a. Transforma 30 grade Celsius in Fahrenheit.\n",
        "\n",
        "b. Transfroma 86 grade Fahrenheit in Celsius.\n",
        "\n",
        "\n",
        "\n",
        "Formula? Google it!"
      ]
    },
    {
      "cell_type": "code",
      "metadata": {
        "id": "R3kAIIQdT5b_",
        "outputId": "67c927c5-ba96-458a-9dcb-61d8a587eac8",
        "colab": {
          "base_uri": "https://localhost:8080/"
        }
      },
      "source": [
        "a=30\n",
        "b=86\n",
        "cel_far=a*1.8 + 32\n",
        "far_cel=(b-32)/1.8\n",
        "print(cel_far)\n",
        "print(far_cel)"
      ],
      "execution_count": 8,
      "outputs": [
        {
          "output_type": "stream",
          "text": [
            "86.0\n",
            "30.0\n"
          ],
          "name": "stdout"
        }
      ]
    },
    {
      "cell_type": "markdown",
      "metadata": {
        "id": "nVE4YZ4H4DfW"
      },
      "source": [
        "8. Creați o variabilă suma_mea egală cu suma a două numere la dorința voastră și afișați variabila la ecran.\n",
        "Creați o altă variabilă, numită distanta și folosiți ridicarea la putere pentru ca rezultatul să fie egal cu 100. Afișați rezultatul.\n"
      ]
    },
    {
      "cell_type": "code",
      "metadata": {
        "id": "dm9-JLBP4Gw7",
        "outputId": "9d0d97fe-7492-461f-876d-c433eddf4cc4",
        "colab": {
          "base_uri": "https://localhost:8080/"
        }
      },
      "source": [
        "a=145\n",
        "b=947\n",
        "distanta=10\n",
        "suma_mea=a+b\n",
        "print(suma_mea)\n",
        "print(distanta**2)"
      ],
      "execution_count": 9,
      "outputs": [
        {
          "output_type": "stream",
          "text": [
            "1092\n",
            "100\n"
          ],
          "name": "stdout"
        }
      ]
    },
    {
      "cell_type": "markdown",
      "metadata": {
        "id": "2t8gXb7JUDwy"
      },
      "source": [
        "9. Creaza un string care sa contina 147 de '*'. Atribuie acest string unei variabile. Printeaza aceasta variabila."
      ]
    },
    {
      "cell_type": "code",
      "metadata": {
        "id": "wtRcG4gqWAgQ",
        "outputId": "497b941a-095e-474f-fd42-fddf1bc59110",
        "colab": {
          "base_uri": "https://localhost:8080/"
        }
      },
      "source": [
        "a=\"*\"*147\n",
        "print(a)"
      ],
      "execution_count": 10,
      "outputs": [
        {
          "output_type": "stream",
          "text": [
            "***************************************************************************************************************************************************\n"
          ],
          "name": "stdout"
        }
      ]
    },
    {
      "cell_type": "markdown",
      "metadata": {
        "id": "_NToPMJq2mDN"
      },
      "source": [
        "10. Creaza un program care sa verifice daca 2 persoane au aceleasi interese(hobby-uri) sau nu. Programul trebuie sa primeasca drept input interesele a doua persoane. Daca au interese comune atunci programul trebuie sa afiseze `\"Yeeey! Avem interese comune!\"`, daca ele vor fi diferite atunci programul trebuie sa afiseze `\"Hmmm! Avem interese diferite!\"`.  "
      ]
    },
    {
      "cell_type": "code",
      "metadata": {
        "id": "cWPonC-o1X3Q",
        "outputId": "88528900-5a55-410e-9baf-265c4d36963a",
        "colab": {
          "base_uri": "https://localhost:8080/"
        }
      },
      "source": [
        "a=input(\"Ce hobby-uri ai?\")\n",
        "b=input(\"Ce hobby-uri ai?\")\n",
        "if a==b:\n",
        "    print(\"Yeeey! Avem interese comune!\")\n",
        "else:    \n",
        "    print(\"Hmmm! Avem interese diferite!\")"
      ],
      "execution_count": 12,
      "outputs": [
        {
          "output_type": "stream",
          "text": [
            "Ce hobby-uri ai?dansez\n",
            "Ce hobby-uri ai?dansez\n",
            "Yeeey! Avem interese comune!\n"
          ],
          "name": "stdout"
        }
      ]
    },
    {
      "cell_type": "markdown",
      "metadata": {
        "id": "0UtIAtTQnG2l"
      },
      "source": [
        "11. Scrie un program utilizând instrucțiunile if/else care sa urmeze aceeasi logica ca si schema(arborele) de mai jos, avand conditiile mentionate in celula de mai jos: \n",
        "\n",
        "![alt text](https://drive.google.com/uc?id=19ufc4re8pN_6MY8W5JBvYFGNef6jMcPO)"
      ]
    },
    {
      "cell_type": "code",
      "metadata": {
        "id": "L0UaI3hgnZr2",
        "outputId": "73ed5f8e-10e0-4c84-ee40-647f6e945bad",
        "colab": {
          "base_uri": "https://localhost:8080/"
        }
      },
      "source": [
        "age = 35\n",
        "pizza_eater = False\n",
        "morning_exercises = True \n",
        "if age<30:\n",
        "    if pizza_eater == True:\n",
        "        print(\"Unfit!\")\n",
        "    else:\n",
        "        print(\"Fit\") \n",
        "else:\n",
        "    if morning_exercises == True :\n",
        "        print(\"Fit\")\n",
        "    else:\n",
        "        print(\"Unfit!\")    \n"
      ],
      "execution_count": 13,
      "outputs": [
        {
          "output_type": "stream",
          "text": [
            "Fit\n"
          ],
          "name": "stdout"
        }
      ]
    }
  ]
}